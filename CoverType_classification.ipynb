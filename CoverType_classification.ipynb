{
  "cells": [
    {
      "cell_type": "markdown",
      "source": [
        "## Working Area"
      ],
      "metadata": {
        "id": "ROmPkHUiV7tL"
      }
    },
    {
      "cell_type": "markdown",
      "source": [
        "### Import Library"
      ],
      "metadata": {
        "id": "nTCjG_zVV9uU"
      }
    },
    {
      "cell_type": "code",
      "source": [
        "!pip install keras-tuner"
      ],
      "metadata": {
        "id": "WvA3mMPdFWjn"
      },
      "execution_count": null,
      "outputs": []
    },
    {
      "cell_type": "code",
      "execution_count": null,
      "metadata": {
        "id": "UX8UbmehriDt"
      },
      "outputs": [],
      "source": [
        "import pandas as pd\n",
        "import numpy as np\n",
        "from sklearn.model_selection import train_test_split\n",
        "from sklearn.preprocessing import StandardScaler\n",
        "import tensorflow as tf\n",
        "from tensorflow import keras\n",
        "from tensorflow.keras import layers\n",
        "from kerastuner.tuners import RandomSearch"
      ]
    },
    {
      "cell_type": "markdown",
      "source": [
        "### Data Loading"
      ],
      "metadata": {
        "id": "MHyDF880V__b"
      }
    },
    {
      "cell_type": "code",
      "source": [
        "df = pd.read_csv('/content/cover_data.csv')\n",
        "\n",
        "# See the data\n",
        "df.head()"
      ],
      "metadata": {
        "colab": {
          "base_uri": "https://localhost:8080/",
          "height": 255
        },
        "id": "K5k7lxuwr5n1",
        "outputId": "8876dff9-7e22-4a57-86fa-42d645bc499c"
      },
      "execution_count": 3,
      "outputs": [
        {
          "output_type": "execute_result",
          "data": {
            "text/plain": [
              "   Elevation  Aspect  Slope  Horizontal_Distance_To_Hydrology  \\\n",
              "0       2596      51      3                               258   \n",
              "1       2590      56      2                               212   \n",
              "2       2804     139      9                               268   \n",
              "3       2785     155     18                               242   \n",
              "4       2595      45      2                               153   \n",
              "\n",
              "   Vertical_Distance_To_Hydrology  Horizontal_Distance_To_Roadways  \\\n",
              "0                               0                              510   \n",
              "1                              -6                              390   \n",
              "2                              65                             3180   \n",
              "3                             118                             3090   \n",
              "4                              -1                              391   \n",
              "\n",
              "   Hillshade_9am  Hillshade_Noon  Hillshade_3pm  \\\n",
              "0            221             232            148   \n",
              "1            220             235            151   \n",
              "2            234             238            135   \n",
              "3            238             238            122   \n",
              "4            220             234            150   \n",
              "\n",
              "   Horizontal_Distance_To_Fire_Points  ...  Soil_Type32  Soil_Type33  \\\n",
              "0                                6279  ...            0            0   \n",
              "1                                6225  ...            0            0   \n",
              "2                                6121  ...            0            0   \n",
              "3                                6211  ...            0            0   \n",
              "4                                6172  ...            0            0   \n",
              "\n",
              "   Soil_Type34  Soil_Type35  Soil_Type36  Soil_Type37  Soil_Type38  \\\n",
              "0            0            0            0            0            0   \n",
              "1            0            0            0            0            0   \n",
              "2            0            0            0            0            0   \n",
              "3            0            0            0            0            0   \n",
              "4            0            0            0            0            0   \n",
              "\n",
              "   Soil_Type39  Soil_Type40  class  \n",
              "0            0            0      5  \n",
              "1            0            0      5  \n",
              "2            0            0      2  \n",
              "3            0            0      2  \n",
              "4            0            0      5  \n",
              "\n",
              "[5 rows x 55 columns]"
            ],
            "text/html": [
              "\n",
              "  <div id=\"df-6f7505b2-27d9-4c9d-ae5f-5d2d25efe0e2\" class=\"colab-df-container\">\n",
              "    <div>\n",
              "<style scoped>\n",
              "    .dataframe tbody tr th:only-of-type {\n",
              "        vertical-align: middle;\n",
              "    }\n",
              "\n",
              "    .dataframe tbody tr th {\n",
              "        vertical-align: top;\n",
              "    }\n",
              "\n",
              "    .dataframe thead th {\n",
              "        text-align: right;\n",
              "    }\n",
              "</style>\n",
              "<table border=\"1\" class=\"dataframe\">\n",
              "  <thead>\n",
              "    <tr style=\"text-align: right;\">\n",
              "      <th></th>\n",
              "      <th>Elevation</th>\n",
              "      <th>Aspect</th>\n",
              "      <th>Slope</th>\n",
              "      <th>Horizontal_Distance_To_Hydrology</th>\n",
              "      <th>Vertical_Distance_To_Hydrology</th>\n",
              "      <th>Horizontal_Distance_To_Roadways</th>\n",
              "      <th>Hillshade_9am</th>\n",
              "      <th>Hillshade_Noon</th>\n",
              "      <th>Hillshade_3pm</th>\n",
              "      <th>Horizontal_Distance_To_Fire_Points</th>\n",
              "      <th>...</th>\n",
              "      <th>Soil_Type32</th>\n",
              "      <th>Soil_Type33</th>\n",
              "      <th>Soil_Type34</th>\n",
              "      <th>Soil_Type35</th>\n",
              "      <th>Soil_Type36</th>\n",
              "      <th>Soil_Type37</th>\n",
              "      <th>Soil_Type38</th>\n",
              "      <th>Soil_Type39</th>\n",
              "      <th>Soil_Type40</th>\n",
              "      <th>class</th>\n",
              "    </tr>\n",
              "  </thead>\n",
              "  <tbody>\n",
              "    <tr>\n",
              "      <th>0</th>\n",
              "      <td>2596</td>\n",
              "      <td>51</td>\n",
              "      <td>3</td>\n",
              "      <td>258</td>\n",
              "      <td>0</td>\n",
              "      <td>510</td>\n",
              "      <td>221</td>\n",
              "      <td>232</td>\n",
              "      <td>148</td>\n",
              "      <td>6279</td>\n",
              "      <td>...</td>\n",
              "      <td>0</td>\n",
              "      <td>0</td>\n",
              "      <td>0</td>\n",
              "      <td>0</td>\n",
              "      <td>0</td>\n",
              "      <td>0</td>\n",
              "      <td>0</td>\n",
              "      <td>0</td>\n",
              "      <td>0</td>\n",
              "      <td>5</td>\n",
              "    </tr>\n",
              "    <tr>\n",
              "      <th>1</th>\n",
              "      <td>2590</td>\n",
              "      <td>56</td>\n",
              "      <td>2</td>\n",
              "      <td>212</td>\n",
              "      <td>-6</td>\n",
              "      <td>390</td>\n",
              "      <td>220</td>\n",
              "      <td>235</td>\n",
              "      <td>151</td>\n",
              "      <td>6225</td>\n",
              "      <td>...</td>\n",
              "      <td>0</td>\n",
              "      <td>0</td>\n",
              "      <td>0</td>\n",
              "      <td>0</td>\n",
              "      <td>0</td>\n",
              "      <td>0</td>\n",
              "      <td>0</td>\n",
              "      <td>0</td>\n",
              "      <td>0</td>\n",
              "      <td>5</td>\n",
              "    </tr>\n",
              "    <tr>\n",
              "      <th>2</th>\n",
              "      <td>2804</td>\n",
              "      <td>139</td>\n",
              "      <td>9</td>\n",
              "      <td>268</td>\n",
              "      <td>65</td>\n",
              "      <td>3180</td>\n",
              "      <td>234</td>\n",
              "      <td>238</td>\n",
              "      <td>135</td>\n",
              "      <td>6121</td>\n",
              "      <td>...</td>\n",
              "      <td>0</td>\n",
              "      <td>0</td>\n",
              "      <td>0</td>\n",
              "      <td>0</td>\n",
              "      <td>0</td>\n",
              "      <td>0</td>\n",
              "      <td>0</td>\n",
              "      <td>0</td>\n",
              "      <td>0</td>\n",
              "      <td>2</td>\n",
              "    </tr>\n",
              "    <tr>\n",
              "      <th>3</th>\n",
              "      <td>2785</td>\n",
              "      <td>155</td>\n",
              "      <td>18</td>\n",
              "      <td>242</td>\n",
              "      <td>118</td>\n",
              "      <td>3090</td>\n",
              "      <td>238</td>\n",
              "      <td>238</td>\n",
              "      <td>122</td>\n",
              "      <td>6211</td>\n",
              "      <td>...</td>\n",
              "      <td>0</td>\n",
              "      <td>0</td>\n",
              "      <td>0</td>\n",
              "      <td>0</td>\n",
              "      <td>0</td>\n",
              "      <td>0</td>\n",
              "      <td>0</td>\n",
              "      <td>0</td>\n",
              "      <td>0</td>\n",
              "      <td>2</td>\n",
              "    </tr>\n",
              "    <tr>\n",
              "      <th>4</th>\n",
              "      <td>2595</td>\n",
              "      <td>45</td>\n",
              "      <td>2</td>\n",
              "      <td>153</td>\n",
              "      <td>-1</td>\n",
              "      <td>391</td>\n",
              "      <td>220</td>\n",
              "      <td>234</td>\n",
              "      <td>150</td>\n",
              "      <td>6172</td>\n",
              "      <td>...</td>\n",
              "      <td>0</td>\n",
              "      <td>0</td>\n",
              "      <td>0</td>\n",
              "      <td>0</td>\n",
              "      <td>0</td>\n",
              "      <td>0</td>\n",
              "      <td>0</td>\n",
              "      <td>0</td>\n",
              "      <td>0</td>\n",
              "      <td>5</td>\n",
              "    </tr>\n",
              "  </tbody>\n",
              "</table>\n",
              "<p>5 rows × 55 columns</p>\n",
              "</div>\n",
              "    <div class=\"colab-df-buttons\">\n",
              "\n",
              "  <div class=\"colab-df-container\">\n",
              "    <button class=\"colab-df-convert\" onclick=\"convertToInteractive('df-6f7505b2-27d9-4c9d-ae5f-5d2d25efe0e2')\"\n",
              "            title=\"Convert this dataframe to an interactive table.\"\n",
              "            style=\"display:none;\">\n",
              "\n",
              "  <svg xmlns=\"http://www.w3.org/2000/svg\" height=\"24px\" viewBox=\"0 -960 960 960\">\n",
              "    <path d=\"M120-120v-720h720v720H120Zm60-500h600v-160H180v160Zm220 220h160v-160H400v160Zm0 220h160v-160H400v160ZM180-400h160v-160H180v160Zm440 0h160v-160H620v160ZM180-180h160v-160H180v160Zm440 0h160v-160H620v160Z\"/>\n",
              "  </svg>\n",
              "    </button>\n",
              "\n",
              "  <style>\n",
              "    .colab-df-container {\n",
              "      display:flex;\n",
              "      gap: 12px;\n",
              "    }\n",
              "\n",
              "    .colab-df-convert {\n",
              "      background-color: #E8F0FE;\n",
              "      border: none;\n",
              "      border-radius: 50%;\n",
              "      cursor: pointer;\n",
              "      display: none;\n",
              "      fill: #1967D2;\n",
              "      height: 32px;\n",
              "      padding: 0 0 0 0;\n",
              "      width: 32px;\n",
              "    }\n",
              "\n",
              "    .colab-df-convert:hover {\n",
              "      background-color: #E2EBFA;\n",
              "      box-shadow: 0px 1px 2px rgba(60, 64, 67, 0.3), 0px 1px 3px 1px rgba(60, 64, 67, 0.15);\n",
              "      fill: #174EA6;\n",
              "    }\n",
              "\n",
              "    .colab-df-buttons div {\n",
              "      margin-bottom: 4px;\n",
              "    }\n",
              "\n",
              "    [theme=dark] .colab-df-convert {\n",
              "      background-color: #3B4455;\n",
              "      fill: #D2E3FC;\n",
              "    }\n",
              "\n",
              "    [theme=dark] .colab-df-convert:hover {\n",
              "      background-color: #434B5C;\n",
              "      box-shadow: 0px 1px 3px 1px rgba(0, 0, 0, 0.15);\n",
              "      filter: drop-shadow(0px 1px 2px rgba(0, 0, 0, 0.3));\n",
              "      fill: #FFFFFF;\n",
              "    }\n",
              "  </style>\n",
              "\n",
              "    <script>\n",
              "      const buttonEl =\n",
              "        document.querySelector('#df-6f7505b2-27d9-4c9d-ae5f-5d2d25efe0e2 button.colab-df-convert');\n",
              "      buttonEl.style.display =\n",
              "        google.colab.kernel.accessAllowed ? 'block' : 'none';\n",
              "\n",
              "      async function convertToInteractive(key) {\n",
              "        const element = document.querySelector('#df-6f7505b2-27d9-4c9d-ae5f-5d2d25efe0e2');\n",
              "        const dataTable =\n",
              "          await google.colab.kernel.invokeFunction('convertToInteractive',\n",
              "                                                    [key], {});\n",
              "        if (!dataTable) return;\n",
              "\n",
              "        const docLinkHtml = 'Like what you see? Visit the ' +\n",
              "          '<a target=\"_blank\" href=https://colab.research.google.com/notebooks/data_table.ipynb>data table notebook</a>'\n",
              "          + ' to learn more about interactive tables.';\n",
              "        element.innerHTML = '';\n",
              "        dataTable['output_type'] = 'display_data';\n",
              "        await google.colab.output.renderOutput(dataTable, element);\n",
              "        const docLink = document.createElement('div');\n",
              "        docLink.innerHTML = docLinkHtml;\n",
              "        element.appendChild(docLink);\n",
              "      }\n",
              "    </script>\n",
              "  </div>\n",
              "\n",
              "\n",
              "<div id=\"df-85edaedb-5113-4b76-aaa8-91630dc47dcd\">\n",
              "  <button class=\"colab-df-quickchart\" onclick=\"quickchart('df-85edaedb-5113-4b76-aaa8-91630dc47dcd')\"\n",
              "            title=\"Suggest charts.\"\n",
              "            style=\"display:none;\">\n",
              "\n",
              "<svg xmlns=\"http://www.w3.org/2000/svg\" height=\"24px\"viewBox=\"0 0 24 24\"\n",
              "     width=\"24px\">\n",
              "    <g>\n",
              "        <path d=\"M19 3H5c-1.1 0-2 .9-2 2v14c0 1.1.9 2 2 2h14c1.1 0 2-.9 2-2V5c0-1.1-.9-2-2-2zM9 17H7v-7h2v7zm4 0h-2V7h2v10zm4 0h-2v-4h2v4z\"/>\n",
              "    </g>\n",
              "</svg>\n",
              "  </button>\n",
              "\n",
              "<style>\n",
              "  .colab-df-quickchart {\n",
              "      --bg-color: #E8F0FE;\n",
              "      --fill-color: #1967D2;\n",
              "      --hover-bg-color: #E2EBFA;\n",
              "      --hover-fill-color: #174EA6;\n",
              "      --disabled-fill-color: #AAA;\n",
              "      --disabled-bg-color: #DDD;\n",
              "  }\n",
              "\n",
              "  [theme=dark] .colab-df-quickchart {\n",
              "      --bg-color: #3B4455;\n",
              "      --fill-color: #D2E3FC;\n",
              "      --hover-bg-color: #434B5C;\n",
              "      --hover-fill-color: #FFFFFF;\n",
              "      --disabled-bg-color: #3B4455;\n",
              "      --disabled-fill-color: #666;\n",
              "  }\n",
              "\n",
              "  .colab-df-quickchart {\n",
              "    background-color: var(--bg-color);\n",
              "    border: none;\n",
              "    border-radius: 50%;\n",
              "    cursor: pointer;\n",
              "    display: none;\n",
              "    fill: var(--fill-color);\n",
              "    height: 32px;\n",
              "    padding: 0;\n",
              "    width: 32px;\n",
              "  }\n",
              "\n",
              "  .colab-df-quickchart:hover {\n",
              "    background-color: var(--hover-bg-color);\n",
              "    box-shadow: 0 1px 2px rgba(60, 64, 67, 0.3), 0 1px 3px 1px rgba(60, 64, 67, 0.15);\n",
              "    fill: var(--button-hover-fill-color);\n",
              "  }\n",
              "\n",
              "  .colab-df-quickchart-complete:disabled,\n",
              "  .colab-df-quickchart-complete:disabled:hover {\n",
              "    background-color: var(--disabled-bg-color);\n",
              "    fill: var(--disabled-fill-color);\n",
              "    box-shadow: none;\n",
              "  }\n",
              "\n",
              "  .colab-df-spinner {\n",
              "    border: 2px solid var(--fill-color);\n",
              "    border-color: transparent;\n",
              "    border-bottom-color: var(--fill-color);\n",
              "    animation:\n",
              "      spin 1s steps(1) infinite;\n",
              "  }\n",
              "\n",
              "  @keyframes spin {\n",
              "    0% {\n",
              "      border-color: transparent;\n",
              "      border-bottom-color: var(--fill-color);\n",
              "      border-left-color: var(--fill-color);\n",
              "    }\n",
              "    20% {\n",
              "      border-color: transparent;\n",
              "      border-left-color: var(--fill-color);\n",
              "      border-top-color: var(--fill-color);\n",
              "    }\n",
              "    30% {\n",
              "      border-color: transparent;\n",
              "      border-left-color: var(--fill-color);\n",
              "      border-top-color: var(--fill-color);\n",
              "      border-right-color: var(--fill-color);\n",
              "    }\n",
              "    40% {\n",
              "      border-color: transparent;\n",
              "      border-right-color: var(--fill-color);\n",
              "      border-top-color: var(--fill-color);\n",
              "    }\n",
              "    60% {\n",
              "      border-color: transparent;\n",
              "      border-right-color: var(--fill-color);\n",
              "    }\n",
              "    80% {\n",
              "      border-color: transparent;\n",
              "      border-right-color: var(--fill-color);\n",
              "      border-bottom-color: var(--fill-color);\n",
              "    }\n",
              "    90% {\n",
              "      border-color: transparent;\n",
              "      border-bottom-color: var(--fill-color);\n",
              "    }\n",
              "  }\n",
              "</style>\n",
              "\n",
              "  <script>\n",
              "    async function quickchart(key) {\n",
              "      const quickchartButtonEl =\n",
              "        document.querySelector('#' + key + ' button');\n",
              "      quickchartButtonEl.disabled = true;  // To prevent multiple clicks.\n",
              "      quickchartButtonEl.classList.add('colab-df-spinner');\n",
              "      try {\n",
              "        const charts = await google.colab.kernel.invokeFunction(\n",
              "            'suggestCharts', [key], {});\n",
              "      } catch (error) {\n",
              "        console.error('Error during call to suggestCharts:', error);\n",
              "      }\n",
              "      quickchartButtonEl.classList.remove('colab-df-spinner');\n",
              "      quickchartButtonEl.classList.add('colab-df-quickchart-complete');\n",
              "    }\n",
              "    (() => {\n",
              "      let quickchartButtonEl =\n",
              "        document.querySelector('#df-85edaedb-5113-4b76-aaa8-91630dc47dcd button');\n",
              "      quickchartButtonEl.style.display =\n",
              "        google.colab.kernel.accessAllowed ? 'block' : 'none';\n",
              "    })();\n",
              "  </script>\n",
              "</div>\n",
              "    </div>\n",
              "  </div>\n"
            ]
          },
          "metadata": {},
          "execution_count": 3
        }
      ]
    },
    {
      "cell_type": "markdown",
      "source": [
        "### Preprocessing"
      ],
      "metadata": {
        "id": "f7LQrRT6WqZC"
      }
    },
    {
      "cell_type": "code",
      "source": [
        "# Check for missing values in the data\n",
        "df.isnull().sum().sum()"
      ],
      "metadata": {
        "colab": {
          "base_uri": "https://localhost:8080/"
        },
        "id": "6ThCjK2Fs1Bo",
        "outputId": "c8ab826a-d998-4d43-c08c-2163392e2b9b"
      },
      "execution_count": 4,
      "outputs": [
        {
          "output_type": "execute_result",
          "data": {
            "text/plain": [
              "0"
            ]
          },
          "metadata": {},
          "execution_count": 4
        }
      ]
    },
    {
      "cell_type": "markdown",
      "source": [
        "There are no missing values in the data."
      ],
      "metadata": {
        "id": "SFVOy7f5WaEs"
      }
    },
    {
      "cell_type": "code",
      "source": [
        "# Check for data type in the data\n",
        "df.info()"
      ],
      "metadata": {
        "colab": {
          "base_uri": "https://localhost:8080/"
        },
        "id": "Yl0zi_WUxO7A",
        "outputId": "58b99f07-8cbb-42ac-e62f-9b9c2a391967"
      },
      "execution_count": 5,
      "outputs": [
        {
          "output_type": "stream",
          "name": "stdout",
          "text": [
            "<class 'pandas.core.frame.DataFrame'>\n",
            "RangeIndex: 581012 entries, 0 to 581011\n",
            "Data columns (total 55 columns):\n",
            " #   Column                              Non-Null Count   Dtype\n",
            "---  ------                              --------------   -----\n",
            " 0   Elevation                           581012 non-null  int64\n",
            " 1   Aspect                              581012 non-null  int64\n",
            " 2   Slope                               581012 non-null  int64\n",
            " 3   Horizontal_Distance_To_Hydrology    581012 non-null  int64\n",
            " 4   Vertical_Distance_To_Hydrology      581012 non-null  int64\n",
            " 5   Horizontal_Distance_To_Roadways     581012 non-null  int64\n",
            " 6   Hillshade_9am                       581012 non-null  int64\n",
            " 7   Hillshade_Noon                      581012 non-null  int64\n",
            " 8   Hillshade_3pm                       581012 non-null  int64\n",
            " 9   Horizontal_Distance_To_Fire_Points  581012 non-null  int64\n",
            " 10  Wilderness_Area1                    581012 non-null  int64\n",
            " 11  Wilderness_Area2                    581012 non-null  int64\n",
            " 12  Wilderness_Area3                    581012 non-null  int64\n",
            " 13  Wilderness_Area4                    581012 non-null  int64\n",
            " 14  Soil_Type1                          581012 non-null  int64\n",
            " 15  Soil_Type2                          581012 non-null  int64\n",
            " 16  Soil_Type3                          581012 non-null  int64\n",
            " 17  Soil_Type4                          581012 non-null  int64\n",
            " 18  Soil_Type5                          581012 non-null  int64\n",
            " 19  Soil_Type6                          581012 non-null  int64\n",
            " 20  Soil_Type7                          581012 non-null  int64\n",
            " 21  Soil_Type8                          581012 non-null  int64\n",
            " 22  Soil_Type9                          581012 non-null  int64\n",
            " 23  Soil_Type10                         581012 non-null  int64\n",
            " 24  Soil_Type11                         581012 non-null  int64\n",
            " 25  Soil_Type12                         581012 non-null  int64\n",
            " 26  Soil_Type13                         581012 non-null  int64\n",
            " 27  Soil_Type14                         581012 non-null  int64\n",
            " 28  Soil_Type15                         581012 non-null  int64\n",
            " 29  Soil_Type16                         581012 non-null  int64\n",
            " 30  Soil_Type17                         581012 non-null  int64\n",
            " 31  Soil_Type18                         581012 non-null  int64\n",
            " 32  Soil_Type19                         581012 non-null  int64\n",
            " 33  Soil_Type20                         581012 non-null  int64\n",
            " 34  Soil_Type21                         581012 non-null  int64\n",
            " 35  Soil_Type22                         581012 non-null  int64\n",
            " 36  Soil_Type23                         581012 non-null  int64\n",
            " 37  Soil_Type24                         581012 non-null  int64\n",
            " 38  Soil_Type25                         581012 non-null  int64\n",
            " 39  Soil_Type26                         581012 non-null  int64\n",
            " 40  Soil_Type27                         581012 non-null  int64\n",
            " 41  Soil_Type28                         581012 non-null  int64\n",
            " 42  Soil_Type29                         581012 non-null  int64\n",
            " 43  Soil_Type30                         581012 non-null  int64\n",
            " 44  Soil_Type31                         581012 non-null  int64\n",
            " 45  Soil_Type32                         581012 non-null  int64\n",
            " 46  Soil_Type33                         581012 non-null  int64\n",
            " 47  Soil_Type34                         581012 non-null  int64\n",
            " 48  Soil_Type35                         581012 non-null  int64\n",
            " 49  Soil_Type36                         581012 non-null  int64\n",
            " 50  Soil_Type37                         581012 non-null  int64\n",
            " 51  Soil_Type38                         581012 non-null  int64\n",
            " 52  Soil_Type39                         581012 non-null  int64\n",
            " 53  Soil_Type40                         581012 non-null  int64\n",
            " 54  class                               581012 non-null  int64\n",
            "dtypes: int64(55)\n",
            "memory usage: 243.8 MB\n"
          ]
        }
      ]
    },
    {
      "cell_type": "markdown",
      "source": [
        "All data types are integers."
      ],
      "metadata": {
        "id": "VICpAerQiChF"
      }
    },
    {
      "cell_type": "code",
      "source": [
        "# Combine the Wilderness Area column into 1 column\n",
        "df['Wilderness_Area'] = df.loc[:, 'Wilderness_Area1':'Wilderness_Area4'].idxmax(axis=1)\n",
        "df['Wilderness_Area'] = df['Wilderness_Area'].str.extract(r'(\\d+)').astype(int)\n",
        "df = df.drop(columns=[f\"Wilderness_Area{i}\" for i in range(1, 5)])"
      ],
      "metadata": {
        "id": "k2hjVUylfCuH"
      },
      "execution_count": 6,
      "outputs": []
    },
    {
      "cell_type": "code",
      "source": [
        "# Combine the Soil Type column into 1 column\n",
        "df['Soil_Type'] = df.loc[:, 'Soil_Type1':'Soil_Type40'].idxmax(axis=1)\n",
        "df['Soil_Type'] = df['Soil_Type'].str.extract(r'(\\d+)').astype(int)\n",
        "df = df.drop(columns=[f\"Soil_Type{i}\" for i in range(1, 41)])"
      ],
      "metadata": {
        "id": "OCYKfGSqfzDI"
      },
      "execution_count": 7,
      "outputs": []
    },
    {
      "cell_type": "markdown",
      "source": [
        "Columns are combined because the data obtained is the result of encoding."
      ],
      "metadata": {
        "id": "CM7C1r4viWgj"
      }
    },
    {
      "cell_type": "code",
      "source": [
        "# Reduces class value\n",
        "df['class'] = df['class']-1"
      ],
      "metadata": {
        "id": "ING9CKTnblrx"
      },
      "execution_count": 8,
      "outputs": []
    },
    {
      "cell_type": "markdown",
      "source": [
        "Reducing the class value to match the input in tensorflow."
      ],
      "metadata": {
        "id": "Qs6LwZFtvLg4"
      }
    },
    {
      "cell_type": "markdown",
      "source": [
        "### Model Training"
      ],
      "metadata": {
        "id": "6oQ4Yvk-WFQ5"
      }
    },
    {
      "cell_type": "code",
      "source": [
        "# Split the data into features (X) and target (y)\n",
        "X = df.drop(columns=['class'])\n",
        "y = df['class']\n",
        "\n",
        "# Normalize the features using StandardScaler\n",
        "scaler = StandardScaler()\n",
        "X = scaler.fit_transform(X)\n",
        "\n",
        "# Split data into training, validation, and test sets\n",
        "X_train, X_temp, y_train, y_temp = train_test_split(X, y, test_size=0.2, random_state=42)\n",
        "X_val, X_test, y_val, y_test = train_test_split(X_temp, y_temp, test_size=0.5, random_state=42)"
      ],
      "metadata": {
        "id": "fa0yNP6wuQON"
      },
      "execution_count": 9,
      "outputs": []
    },
    {
      "cell_type": "code",
      "source": [
        "# Build a Neural Network Model\n",
        "with tf.device('/device:GPU:0'):\n",
        "  def build_model(hp):\n",
        "      model = keras.Sequential()\n",
        "      model.add(layers.Input(shape=(X_train.shape[1],)))\n",
        "\n",
        "      for i in range(hp.Int('num_layers', min_value=1, max_value=5)):\n",
        "          model.add(layers.Dense(units=hp.Int('units_' + str(i), min_value=32, max_value=512, step=32), activation='relu'))\n",
        "\n",
        "      model.add(layers.Dense(7, activation='softmax'))\n",
        "\n",
        "      hp_learning_rate = hp.Choice('learning_rate', values=[1e-2, 1e-3, 1e-4])\n",
        "\n",
        "      model.compile(optimizer=keras.optimizers.Adam(learning_rate=hp_learning_rate),\n",
        "                    loss='sparse_categorical_crossentropy',\n",
        "                    metrics=['accuracy'])\n",
        "\n",
        "      return model\n",
        "\n",
        "  tuner = RandomSearch(\n",
        "      build_model,\n",
        "      objective='val_accuracy',\n",
        "      max_trials=10,\n",
        "      directory='my_tuner_directory'\n",
        "  )\n",
        "\n",
        "  tuner.search(X_train, y_train, epochs=50, validation_data=(X_val, y_val))\n",
        "  best_hps = tuner.get_best_hyperparameters(num_trials=1)[0]\n",
        "\n",
        "  best_model = tuner.hypermodel.build(best_hps)\n",
        "  best_model.fit(X_train, y_train, epochs=100, validation_data=(X_val, y_val))"
      ],
      "metadata": {
        "colab": {
          "base_uri": "https://localhost:8080/"
        },
        "id": "adx-5bzuFMdm",
        "outputId": "f8176e1e-e012-4469-db0b-a4aa230b3eaa"
      },
      "execution_count": 10,
      "outputs": [
        {
          "output_type": "stream",
          "name": "stdout",
          "text": [
            "Trial 10 Complete [00h 41m 03s]\n",
            "val_accuracy: 0.9498631954193115\n",
            "\n",
            "Best val_accuracy So Far: 0.9507753849029541\n",
            "Total elapsed time: 05h 49m 41s\n",
            "Epoch 1/100\n",
            "14526/14526 [==============================] - 49s 3ms/step - loss: 0.5678 - accuracy: 0.7604 - val_loss: 0.4934 - val_accuracy: 0.7927\n",
            "Epoch 2/100\n",
            "14526/14526 [==============================] - 47s 3ms/step - loss: 0.4489 - accuracy: 0.8123 - val_loss: 0.4173 - val_accuracy: 0.8286\n",
            "Epoch 3/100\n",
            "14526/14526 [==============================] - 47s 3ms/step - loss: 0.3920 - accuracy: 0.8374 - val_loss: 0.3804 - val_accuracy: 0.8434\n",
            "Epoch 4/100\n",
            "14526/14526 [==============================] - 47s 3ms/step - loss: 0.3526 - accuracy: 0.8548 - val_loss: 0.3365 - val_accuracy: 0.8634\n",
            "Epoch 5/100\n",
            "14526/14526 [==============================] - 47s 3ms/step - loss: 0.3242 - accuracy: 0.8667 - val_loss: 0.3168 - val_accuracy: 0.8709\n",
            "Epoch 6/100\n",
            "14526/14526 [==============================] - 47s 3ms/step - loss: 0.3007 - accuracy: 0.8769 - val_loss: 0.2854 - val_accuracy: 0.8852\n",
            "Epoch 7/100\n",
            "14526/14526 [==============================] - 47s 3ms/step - loss: 0.2814 - accuracy: 0.8854 - val_loss: 0.2923 - val_accuracy: 0.8809\n",
            "Epoch 8/100\n",
            "14526/14526 [==============================] - 47s 3ms/step - loss: 0.2662 - accuracy: 0.8918 - val_loss: 0.2561 - val_accuracy: 0.8971\n",
            "Epoch 9/100\n",
            "14526/14526 [==============================] - 47s 3ms/step - loss: 0.2525 - accuracy: 0.8973 - val_loss: 0.2534 - val_accuracy: 0.8964\n",
            "Epoch 10/100\n",
            "14526/14526 [==============================] - 47s 3ms/step - loss: 0.2408 - accuracy: 0.9023 - val_loss: 0.2475 - val_accuracy: 0.9011\n",
            "Epoch 11/100\n",
            "14526/14526 [==============================] - 47s 3ms/step - loss: 0.2301 - accuracy: 0.9067 - val_loss: 0.2351 - val_accuracy: 0.9063\n",
            "Epoch 12/100\n",
            "14526/14526 [==============================] - 47s 3ms/step - loss: 0.2209 - accuracy: 0.9105 - val_loss: 0.2236 - val_accuracy: 0.9105\n",
            "Epoch 13/100\n",
            "14526/14526 [==============================] - 47s 3ms/step - loss: 0.2128 - accuracy: 0.9138 - val_loss: 0.2242 - val_accuracy: 0.9095\n",
            "Epoch 14/100\n",
            "14526/14526 [==============================] - 47s 3ms/step - loss: 0.2047 - accuracy: 0.9174 - val_loss: 0.2049 - val_accuracy: 0.9178\n",
            "Epoch 15/100\n",
            "14526/14526 [==============================] - 47s 3ms/step - loss: 0.1976 - accuracy: 0.9200 - val_loss: 0.2180 - val_accuracy: 0.9116\n",
            "Epoch 16/100\n",
            "14526/14526 [==============================] - 47s 3ms/step - loss: 0.1917 - accuracy: 0.9228 - val_loss: 0.1959 - val_accuracy: 0.9218\n",
            "Epoch 17/100\n",
            "14526/14526 [==============================] - 47s 3ms/step - loss: 0.1857 - accuracy: 0.9252 - val_loss: 0.2140 - val_accuracy: 0.9136\n",
            "Epoch 18/100\n",
            "14526/14526 [==============================] - 47s 3ms/step - loss: 0.1808 - accuracy: 0.9274 - val_loss: 0.1926 - val_accuracy: 0.9224\n",
            "Epoch 19/100\n",
            "14526/14526 [==============================] - 47s 3ms/step - loss: 0.1753 - accuracy: 0.9297 - val_loss: 0.1936 - val_accuracy: 0.9235\n",
            "Epoch 20/100\n",
            "14526/14526 [==============================] - 47s 3ms/step - loss: 0.1711 - accuracy: 0.9311 - val_loss: 0.1880 - val_accuracy: 0.9241\n",
            "Epoch 21/100\n",
            "14526/14526 [==============================] - 47s 3ms/step - loss: 0.1668 - accuracy: 0.9330 - val_loss: 0.1892 - val_accuracy: 0.9242\n",
            "Epoch 22/100\n",
            "14526/14526 [==============================] - 47s 3ms/step - loss: 0.1629 - accuracy: 0.9347 - val_loss: 0.1871 - val_accuracy: 0.9259\n",
            "Epoch 23/100\n",
            "14526/14526 [==============================] - 47s 3ms/step - loss: 0.1586 - accuracy: 0.9364 - val_loss: 0.1739 - val_accuracy: 0.9301\n",
            "Epoch 24/100\n",
            "14526/14526 [==============================] - 47s 3ms/step - loss: 0.1555 - accuracy: 0.9376 - val_loss: 0.1797 - val_accuracy: 0.9279\n",
            "Epoch 25/100\n",
            "14526/14526 [==============================] - 47s 3ms/step - loss: 0.1529 - accuracy: 0.9386 - val_loss: 0.1780 - val_accuracy: 0.9297\n",
            "Epoch 26/100\n",
            "14526/14526 [==============================] - 47s 3ms/step - loss: 0.1488 - accuracy: 0.9402 - val_loss: 0.1686 - val_accuracy: 0.9331\n",
            "Epoch 27/100\n",
            "14526/14526 [==============================] - 47s 3ms/step - loss: 0.1463 - accuracy: 0.9413 - val_loss: 0.1841 - val_accuracy: 0.9277\n",
            "Epoch 28/100\n",
            "14526/14526 [==============================] - 47s 3ms/step - loss: 0.1428 - accuracy: 0.9427 - val_loss: 0.1662 - val_accuracy: 0.9337\n",
            "Epoch 29/100\n",
            "14526/14526 [==============================] - 47s 3ms/step - loss: 0.1408 - accuracy: 0.9437 - val_loss: 0.1623 - val_accuracy: 0.9354\n",
            "Epoch 30/100\n",
            "14526/14526 [==============================] - 47s 3ms/step - loss: 0.1379 - accuracy: 0.9447 - val_loss: 0.1701 - val_accuracy: 0.9321\n",
            "Epoch 31/100\n",
            "14526/14526 [==============================] - 48s 3ms/step - loss: 0.1355 - accuracy: 0.9459 - val_loss: 0.1622 - val_accuracy: 0.9353\n",
            "Epoch 32/100\n",
            "14526/14526 [==============================] - 47s 3ms/step - loss: 0.1332 - accuracy: 0.9462 - val_loss: 0.1603 - val_accuracy: 0.9366\n",
            "Epoch 33/100\n",
            "14526/14526 [==============================] - 48s 3ms/step - loss: 0.1312 - accuracy: 0.9475 - val_loss: 0.1633 - val_accuracy: 0.9357\n",
            "Epoch 34/100\n",
            "14526/14526 [==============================] - 48s 3ms/step - loss: 0.1289 - accuracy: 0.9486 - val_loss: 0.1579 - val_accuracy: 0.9375\n",
            "Epoch 35/100\n",
            "14526/14526 [==============================] - 48s 3ms/step - loss: 0.1271 - accuracy: 0.9491 - val_loss: 0.1557 - val_accuracy: 0.9384\n",
            "Epoch 36/100\n",
            "14526/14526 [==============================] - 48s 3ms/step - loss: 0.1250 - accuracy: 0.9503 - val_loss: 0.1597 - val_accuracy: 0.9380\n",
            "Epoch 37/100\n",
            "14526/14526 [==============================] - 48s 3ms/step - loss: 0.1231 - accuracy: 0.9509 - val_loss: 0.1489 - val_accuracy: 0.9411\n",
            "Epoch 38/100\n",
            "14526/14526 [==============================] - 48s 3ms/step - loss: 0.1212 - accuracy: 0.9515 - val_loss: 0.1469 - val_accuracy: 0.9425\n",
            "Epoch 39/100\n",
            "14526/14526 [==============================] - 47s 3ms/step - loss: 0.1195 - accuracy: 0.9523 - val_loss: 0.1527 - val_accuracy: 0.9404\n",
            "Epoch 40/100\n",
            "14526/14526 [==============================] - 47s 3ms/step - loss: 0.1179 - accuracy: 0.9530 - val_loss: 0.1457 - val_accuracy: 0.9423\n",
            "Epoch 41/100\n",
            "14526/14526 [==============================] - 48s 3ms/step - loss: 0.1158 - accuracy: 0.9538 - val_loss: 0.1477 - val_accuracy: 0.9433\n",
            "Epoch 42/100\n",
            "14526/14526 [==============================] - 47s 3ms/step - loss: 0.1143 - accuracy: 0.9542 - val_loss: 0.1446 - val_accuracy: 0.9445\n",
            "Epoch 43/100\n",
            "14526/14526 [==============================] - 48s 3ms/step - loss: 0.1131 - accuracy: 0.9548 - val_loss: 0.1559 - val_accuracy: 0.9406\n",
            "Epoch 44/100\n",
            "14526/14526 [==============================] - 48s 3ms/step - loss: 0.1114 - accuracy: 0.9557 - val_loss: 0.1470 - val_accuracy: 0.9434\n",
            "Epoch 45/100\n",
            "14526/14526 [==============================] - 47s 3ms/step - loss: 0.1101 - accuracy: 0.9559 - val_loss: 0.1447 - val_accuracy: 0.9437\n",
            "Epoch 46/100\n",
            "14526/14526 [==============================] - 47s 3ms/step - loss: 0.1090 - accuracy: 0.9565 - val_loss: 0.1512 - val_accuracy: 0.9426\n",
            "Epoch 47/100\n",
            "14526/14526 [==============================] - 47s 3ms/step - loss: 0.1075 - accuracy: 0.9570 - val_loss: 0.1401 - val_accuracy: 0.9461\n",
            "Epoch 48/100\n",
            "14526/14526 [==============================] - 47s 3ms/step - loss: 0.1058 - accuracy: 0.9578 - val_loss: 0.1400 - val_accuracy: 0.9460\n",
            "Epoch 49/100\n",
            "14526/14526 [==============================] - 47s 3ms/step - loss: 0.1050 - accuracy: 0.9583 - val_loss: 0.1440 - val_accuracy: 0.9444\n",
            "Epoch 50/100\n",
            "14526/14526 [==============================] - 47s 3ms/step - loss: 0.1035 - accuracy: 0.9587 - val_loss: 0.1373 - val_accuracy: 0.9466\n",
            "Epoch 51/100\n",
            "14526/14526 [==============================] - 48s 3ms/step - loss: 0.1023 - accuracy: 0.9594 - val_loss: 0.1387 - val_accuracy: 0.9469\n",
            "Epoch 52/100\n",
            "14526/14526 [==============================] - 47s 3ms/step - loss: 0.1016 - accuracy: 0.9595 - val_loss: 0.1358 - val_accuracy: 0.9487\n",
            "Epoch 53/100\n",
            "14526/14526 [==============================] - 47s 3ms/step - loss: 0.1008 - accuracy: 0.9596 - val_loss: 0.1344 - val_accuracy: 0.9486\n",
            "Epoch 54/100\n",
            "14526/14526 [==============================] - 47s 3ms/step - loss: 0.0994 - accuracy: 0.9600 - val_loss: 0.1404 - val_accuracy: 0.9458\n",
            "Epoch 55/100\n",
            "14526/14526 [==============================] - 47s 3ms/step - loss: 0.0982 - accuracy: 0.9608 - val_loss: 0.1363 - val_accuracy: 0.9477\n",
            "Epoch 56/100\n",
            "14526/14526 [==============================] - 47s 3ms/step - loss: 0.0973 - accuracy: 0.9611 - val_loss: 0.1388 - val_accuracy: 0.9475\n",
            "Epoch 57/100\n",
            "14526/14526 [==============================] - 48s 3ms/step - loss: 0.0963 - accuracy: 0.9614 - val_loss: 0.1401 - val_accuracy: 0.9468\n",
            "Epoch 58/100\n",
            "14526/14526 [==============================] - 47s 3ms/step - loss: 0.0955 - accuracy: 0.9619 - val_loss: 0.1354 - val_accuracy: 0.9488\n",
            "Epoch 59/100\n",
            "14526/14526 [==============================] - 47s 3ms/step - loss: 0.0940 - accuracy: 0.9622 - val_loss: 0.1415 - val_accuracy: 0.9473\n",
            "Epoch 60/100\n",
            "14526/14526 [==============================] - 47s 3ms/step - loss: 0.0937 - accuracy: 0.9624 - val_loss: 0.1345 - val_accuracy: 0.9491\n",
            "Epoch 61/100\n",
            "14526/14526 [==============================] - 47s 3ms/step - loss: 0.0929 - accuracy: 0.9627 - val_loss: 0.1299 - val_accuracy: 0.9507\n",
            "Epoch 62/100\n",
            "14526/14526 [==============================] - 47s 3ms/step - loss: 0.0921 - accuracy: 0.9632 - val_loss: 0.1369 - val_accuracy: 0.9480\n",
            "Epoch 63/100\n",
            "14526/14526 [==============================] - 48s 3ms/step - loss: 0.0904 - accuracy: 0.9638 - val_loss: 0.1330 - val_accuracy: 0.9496\n",
            "Epoch 64/100\n",
            "14526/14526 [==============================] - 48s 3ms/step - loss: 0.0899 - accuracy: 0.9643 - val_loss: 0.1293 - val_accuracy: 0.9511\n",
            "Epoch 65/100\n",
            "14526/14526 [==============================] - 47s 3ms/step - loss: 0.0895 - accuracy: 0.9640 - val_loss: 0.1290 - val_accuracy: 0.9510\n",
            "Epoch 66/100\n",
            "14526/14526 [==============================] - 48s 3ms/step - loss: 0.0886 - accuracy: 0.9648 - val_loss: 0.1381 - val_accuracy: 0.9486\n",
            "Epoch 67/100\n",
            "14526/14526 [==============================] - 48s 3ms/step - loss: 0.0881 - accuracy: 0.9646 - val_loss: 0.1297 - val_accuracy: 0.9518\n",
            "Epoch 68/100\n",
            "14526/14526 [==============================] - 47s 3ms/step - loss: 0.0869 - accuracy: 0.9652 - val_loss: 0.1361 - val_accuracy: 0.9481\n",
            "Epoch 69/100\n",
            "14526/14526 [==============================] - 47s 3ms/step - loss: 0.0863 - accuracy: 0.9658 - val_loss: 0.1330 - val_accuracy: 0.9504\n",
            "Epoch 70/100\n",
            "14526/14526 [==============================] - 48s 3ms/step - loss: 0.0851 - accuracy: 0.9660 - val_loss: 0.1330 - val_accuracy: 0.9502\n",
            "Epoch 71/100\n",
            "14526/14526 [==============================] - 47s 3ms/step - loss: 0.0847 - accuracy: 0.9662 - val_loss: 0.1312 - val_accuracy: 0.9512\n",
            "Epoch 72/100\n",
            "14526/14526 [==============================] - 47s 3ms/step - loss: 0.0840 - accuracy: 0.9663 - val_loss: 0.1338 - val_accuracy: 0.9505\n",
            "Epoch 73/100\n",
            "14526/14526 [==============================] - 47s 3ms/step - loss: 0.0832 - accuracy: 0.9667 - val_loss: 0.1270 - val_accuracy: 0.9519\n",
            "Epoch 74/100\n",
            "14526/14526 [==============================] - 48s 3ms/step - loss: 0.0832 - accuracy: 0.9670 - val_loss: 0.1281 - val_accuracy: 0.9528\n",
            "Epoch 75/100\n",
            "14526/14526 [==============================] - 47s 3ms/step - loss: 0.0819 - accuracy: 0.9672 - val_loss: 0.1318 - val_accuracy: 0.9515\n",
            "Epoch 76/100\n",
            "14526/14526 [==============================] - 47s 3ms/step - loss: 0.0810 - accuracy: 0.9677 - val_loss: 0.1263 - val_accuracy: 0.9536\n",
            "Epoch 77/100\n",
            "14526/14526 [==============================] - 48s 3ms/step - loss: 0.0807 - accuracy: 0.9675 - val_loss: 0.1226 - val_accuracy: 0.9548\n",
            "Epoch 78/100\n",
            "14526/14526 [==============================] - 47s 3ms/step - loss: 0.0802 - accuracy: 0.9680 - val_loss: 0.1296 - val_accuracy: 0.9517\n",
            "Epoch 79/100\n",
            "14526/14526 [==============================] - 47s 3ms/step - loss: 0.0797 - accuracy: 0.9682 - val_loss: 0.1277 - val_accuracy: 0.9530\n",
            "Epoch 80/100\n",
            "14526/14526 [==============================] - 48s 3ms/step - loss: 0.0790 - accuracy: 0.9683 - val_loss: 0.1250 - val_accuracy: 0.9538\n",
            "Epoch 81/100\n",
            "14526/14526 [==============================] - 48s 3ms/step - loss: 0.0783 - accuracy: 0.9688 - val_loss: 0.1256 - val_accuracy: 0.9545\n",
            "Epoch 82/100\n",
            "14526/14526 [==============================] - 48s 3ms/step - loss: 0.0783 - accuracy: 0.9689 - val_loss: 0.1270 - val_accuracy: 0.9537\n",
            "Epoch 83/100\n",
            "14526/14526 [==============================] - 48s 3ms/step - loss: 0.0776 - accuracy: 0.9689 - val_loss: 0.1268 - val_accuracy: 0.9537\n",
            "Epoch 84/100\n",
            "14526/14526 [==============================] - 48s 3ms/step - loss: 0.0766 - accuracy: 0.9694 - val_loss: 0.1271 - val_accuracy: 0.9537\n",
            "Epoch 85/100\n",
            "14526/14526 [==============================] - 48s 3ms/step - loss: 0.0757 - accuracy: 0.9698 - val_loss: 0.1226 - val_accuracy: 0.9549\n",
            "Epoch 86/100\n",
            "14526/14526 [==============================] - 48s 3ms/step - loss: 0.0759 - accuracy: 0.9699 - val_loss: 0.1199 - val_accuracy: 0.9559\n",
            "Epoch 87/100\n",
            "14526/14526 [==============================] - 48s 3ms/step - loss: 0.0753 - accuracy: 0.9700 - val_loss: 0.1315 - val_accuracy: 0.9538\n",
            "Epoch 88/100\n",
            "14526/14526 [==============================] - 48s 3ms/step - loss: 0.0747 - accuracy: 0.9705 - val_loss: 0.1257 - val_accuracy: 0.9549\n",
            "Epoch 89/100\n",
            "14526/14526 [==============================] - 48s 3ms/step - loss: 0.0740 - accuracy: 0.9702 - val_loss: 0.1291 - val_accuracy: 0.9543\n",
            "Epoch 90/100\n",
            "14526/14526 [==============================] - 48s 3ms/step - loss: 0.0739 - accuracy: 0.9706 - val_loss: 0.1270 - val_accuracy: 0.9540\n",
            "Epoch 91/100\n",
            "14526/14526 [==============================] - 48s 3ms/step - loss: 0.0733 - accuracy: 0.9707 - val_loss: 0.1213 - val_accuracy: 0.9561\n",
            "Epoch 92/100\n",
            "14526/14526 [==============================] - 49s 3ms/step - loss: 0.0724 - accuracy: 0.9711 - val_loss: 0.1290 - val_accuracy: 0.9529\n",
            "Epoch 93/100\n",
            "14526/14526 [==============================] - 48s 3ms/step - loss: 0.0722 - accuracy: 0.9711 - val_loss: 0.1298 - val_accuracy: 0.9544\n",
            "Epoch 94/100\n",
            "14526/14526 [==============================] - 49s 3ms/step - loss: 0.0716 - accuracy: 0.9716 - val_loss: 0.1321 - val_accuracy: 0.9526\n",
            "Epoch 95/100\n",
            "14526/14526 [==============================] - 49s 3ms/step - loss: 0.0715 - accuracy: 0.9717 - val_loss: 0.1215 - val_accuracy: 0.9559\n",
            "Epoch 96/100\n",
            "14526/14526 [==============================] - 49s 3ms/step - loss: 0.0714 - accuracy: 0.9717 - val_loss: 0.1294 - val_accuracy: 0.9530\n",
            "Epoch 97/100\n",
            "14526/14526 [==============================] - 49s 3ms/step - loss: 0.0700 - accuracy: 0.9722 - val_loss: 0.1217 - val_accuracy: 0.9570\n",
            "Epoch 98/100\n",
            "14526/14526 [==============================] - 49s 3ms/step - loss: 0.0702 - accuracy: 0.9719 - val_loss: 0.1332 - val_accuracy: 0.9535\n",
            "Epoch 99/100\n",
            "14526/14526 [==============================] - 49s 3ms/step - loss: 0.0697 - accuracy: 0.9721 - val_loss: 0.1234 - val_accuracy: 0.9560\n",
            "Epoch 100/100\n",
            "14526/14526 [==============================] - 48s 3ms/step - loss: 0.0692 - accuracy: 0.9721 - val_loss: 0.1270 - val_accuracy: 0.9556\n"
          ]
        }
      ]
    },
    {
      "cell_type": "markdown",
      "source": [
        "### Model Evaluation"
      ],
      "metadata": {
        "id": "K86Ido4pWJQg"
      }
    },
    {
      "cell_type": "code",
      "source": [
        "test_loss, test_accuracy = best_model.evaluate(X_test, y_test, verbose=2)\n",
        "print(f'Test accuracy: {test_accuracy:.4f}')"
      ],
      "metadata": {
        "id": "fVlTdZOgYg-_",
        "colab": {
          "base_uri": "https://localhost:8080/"
        },
        "outputId": "39f3c10a-26a8-482c-b160-8d6d3cf187d4"
      },
      "execution_count": 11,
      "outputs": [
        {
          "output_type": "stream",
          "name": "stdout",
          "text": [
            "1816/1816 - 3s - loss: 0.1240 - accuracy: 0.9554 - 3s/epoch - 2ms/step\n",
            "Test accuracy: 0.9554\n"
          ]
        }
      ]
    },
    {
      "cell_type": "markdown",
      "source": [
        "### Model Saving"
      ],
      "metadata": {
        "id": "_2v7uW2mYjO7"
      }
    },
    {
      "cell_type": "code",
      "source": [
        "from joblib import dump\n",
        "dump(scaler, 'scaler.joblib')"
      ],
      "metadata": {
        "id": "hboWGzwbQ7cj",
        "colab": {
          "base_uri": "https://localhost:8080/"
        },
        "outputId": "49de265d-7aeb-42f1-bd32-51435faa776b"
      },
      "execution_count": 12,
      "outputs": [
        {
          "output_type": "execute_result",
          "data": {
            "text/plain": [
              "['scaler.joblib']"
            ]
          },
          "metadata": {},
          "execution_count": 12
        }
      ]
    },
    {
      "cell_type": "code",
      "source": [
        "best_model.save(\"TCM.h5\")"
      ],
      "metadata": {
        "id": "jigSd8VKCA2H",
        "colab": {
          "base_uri": "https://localhost:8080/"
        },
        "outputId": "6872a78f-1101-4cc0-cf43-b7c2777b4ceb"
      },
      "execution_count": 13,
      "outputs": [
        {
          "output_type": "stream",
          "name": "stderr",
          "text": [
            "/usr/local/lib/python3.10/dist-packages/keras/src/engine/training.py:3000: UserWarning: You are saving your model as an HDF5 file via `model.save()`. This file format is considered legacy. We recommend using instead the native Keras format, e.g. `model.save('my_model.keras')`.\n",
            "  saving_api.save_model(\n"
          ]
        }
      ]
    },
    {
      "cell_type": "markdown",
      "source": [
        "## Model Inference"
      ],
      "metadata": {
        "id": "OW1XCTN3woQk"
      }
    },
    {
      "cell_type": "code",
      "source": [
        "# Create a dictionary or list to specify the values for each feature\n",
        "input_data = {\n",
        "    'Elevation': 2000,\n",
        "    'Aspect': 318,\n",
        "    'Slope': 7,\n",
        "    'Horizontal_Distance_To_Hydrology': 30,\n",
        "    'Vertical_Distance_To_Hydrology': 4,\n",
        "    'Horizontal_Distance_To_Roadways': 108,\n",
        "    'Hillshade_9am': 201,\n",
        "    'Hillshade_Noon': 234,\n",
        "    'Hillshade_3pm': 172,\n",
        "    'Horizontal_Distance_To_Fire_Points': 268,\n",
        "    'Wilderness_Area': 4,\n",
        "    'Soil_Type': 17\n",
        "}\n",
        "\n",
        "# Create a NumPy array from the values\n",
        "new_test = np.array(list(input_data.values())).reshape(1, -1)\n",
        "new_test = scaler.transform(new_test)\n",
        "\n",
        "# Make a prediction for the single data point\n",
        "prediction = best_model.predict(new_test)\n",
        "predicted_class = np.argmax(prediction)\n",
        "print(\"Predicted Class:\", predicted_class)"
      ],
      "metadata": {
        "id": "4v8qvQJpQ9Yf",
        "colab": {
          "base_uri": "https://localhost:8080/"
        },
        "outputId": "8bf7d351-bd7a-4428-f3f2-5d6c32750e3f"
      },
      "execution_count": 14,
      "outputs": [
        {
          "output_type": "stream",
          "name": "stdout",
          "text": [
            "1/1 [==============================] - 0s 110ms/step\n",
            "Predicted Class: 2\n"
          ]
        },
        {
          "output_type": "stream",
          "name": "stderr",
          "text": [
            "/usr/local/lib/python3.10/dist-packages/sklearn/base.py:439: UserWarning: X does not have valid feature names, but StandardScaler was fitted with feature names\n",
            "  warnings.warn(\n"
          ]
        }
      ]
    }
  ],
  "metadata": {
    "kernelspec": {
      "display_name": "Python 3.7 (tensorflow)",
      "language": "python",
      "name": "tensorflow"
    },
    "language_info": {
      "codemirror_mode": {
        "name": "ipython",
        "version": 3
      },
      "file_extension": ".py",
      "mimetype": "text/x-python",
      "name": "python",
      "nbconvert_exporter": "python",
      "pygments_lexer": "ipython3",
      "version": "3.7.6"
    },
    "colab": {
      "provenance": [],
      "gpuType": "A100"
    },
    "accelerator": "GPU"
  },
  "nbformat": 4,
  "nbformat_minor": 0
}